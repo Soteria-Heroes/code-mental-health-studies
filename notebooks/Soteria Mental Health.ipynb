{
 "cells": [
  {
   "cell_type": "code",
   "execution_count": 11,
   "metadata": {},
   "outputs": [],
   "source": [
    "import numpy as np\n",
    "import pandas as pd\n",
    "\n",
    "import os\n",
    "\n",
    "import matplotlib.pyplot as plt\n",
    "import plotly.express as px\n",
    "import matplotlib.ticker as ticker\n",
    "import seaborn as sns\n",
    "\n",
    "\n",
    "import mplcursors\n",
    "import mpldatacursor\n",
    "\n"
   ]
  },
  {
   "cell_type": "code",
   "execution_count": 12,
   "metadata": {},
   "outputs": [
    {
     "name": "stdout",
     "output_type": "stream",
     "text": [
      "/Users/suparnaroy/Library/CloudStorage/GoogleDrive-roysuparna.sr@gmail.com/Other computers/My Laptop/CV & Certifications/Projects: Internships/Session_Angel\n"
     ]
    }
   ],
   "source": [
    "# Identifying current directory\n",
    "\n",
    "current_directory = os.getcwd()\n",
    "print(current_directory)"
   ]
  },
  {
   "cell_type": "code",
   "execution_count": 13,
   "metadata": {},
   "outputs": [
    {
     "data": {
      "text/html": [
       "<div>\n",
       "<style scoped>\n",
       "    .dataframe tbody tr th:only-of-type {\n",
       "        vertical-align: middle;\n",
       "    }\n",
       "\n",
       "    .dataframe tbody tr th {\n",
       "        vertical-align: top;\n",
       "    }\n",
       "\n",
       "    .dataframe thead th {\n",
       "        text-align: right;\n",
       "    }\n",
       "</style>\n",
       "<table border=\"1\" class=\"dataframe\">\n",
       "  <thead>\n",
       "    <tr style=\"text-align: right;\">\n",
       "      <th></th>\n",
       "      <th>Pid</th>\n",
       "      <th>text data</th>\n",
       "      <th>Class labels</th>\n",
       "      <th>predicted_classes</th>\n",
       "      <th>predicted_raw_scores</th>\n",
       "    </tr>\n",
       "  </thead>\n",
       "  <tbody>\n",
       "    <tr>\n",
       "      <th>0</th>\n",
       "      <td>test_pid_1</td>\n",
       "      <td>im scared lie every day say ill make think mig...</td>\n",
       "      <td>moderate</td>\n",
       "      <td>0</td>\n",
       "      <td>0.498533</td>\n",
       "    </tr>\n",
       "    <tr>\n",
       "      <th>1</th>\n",
       "      <td>test_pid_2</td>\n",
       "      <td>new wanted vent finally realized kind bad ment...</td>\n",
       "      <td>moderate</td>\n",
       "      <td>0</td>\n",
       "      <td>0.499537</td>\n",
       "    </tr>\n",
       "    <tr>\n",
       "      <th>2</th>\n",
       "      <td>test_pid_3</td>\n",
       "      <td>sad kinda always issue say bad peer definitely...</td>\n",
       "      <td>moderate</td>\n",
       "      <td>1</td>\n",
       "      <td>0.249972</td>\n",
       "    </tr>\n",
       "    <tr>\n",
       "      <th>3</th>\n",
       "      <td>test_pid_4</td>\n",
       "      <td>lonely alone immediately family member dead da...</td>\n",
       "      <td>moderate</td>\n",
       "      <td>0</td>\n",
       "      <td>0.460132</td>\n",
       "    </tr>\n",
       "    <tr>\n",
       "      <th>4</th>\n",
       "      <td>test_pid_5</td>\n",
       "      <td>year trash dont know posting even know talking...</td>\n",
       "      <td>moderate</td>\n",
       "      <td>0</td>\n",
       "      <td>0.487959</td>\n",
       "    </tr>\n",
       "  </tbody>\n",
       "</table>\n",
       "</div>"
      ],
      "text/plain": [
       "          Pid                                          text data Class labels  \\\n",
       "0  test_pid_1  im scared lie every day say ill make think mig...     moderate   \n",
       "1  test_pid_2  new wanted vent finally realized kind bad ment...     moderate   \n",
       "2  test_pid_3  sad kinda always issue say bad peer definitely...     moderate   \n",
       "3  test_pid_4  lonely alone immediately family member dead da...     moderate   \n",
       "4  test_pid_5  year trash dont know posting even know talking...     moderate   \n",
       "\n",
       "   predicted_classes  predicted_raw_scores  \n",
       "0                  0              0.498533  \n",
       "1                  0              0.499537  \n",
       "2                  1              0.249972  \n",
       "3                  0              0.460132  \n",
       "4                  0              0.487959  "
      ]
     },
     "execution_count": 13,
     "metadata": {},
     "output_type": "execute_result"
    }
   ],
   "source": [
    "scores_data = pd.read_csv(\"provisional_results.csv\")\n",
    "scores_data.head()"
   ]
  },
  {
   "cell_type": "code",
   "execution_count": 14,
   "metadata": {},
   "outputs": [
    {
     "data": {
      "text/html": [
       "<div>\n",
       "<style scoped>\n",
       "    .dataframe tbody tr th:only-of-type {\n",
       "        vertical-align: middle;\n",
       "    }\n",
       "\n",
       "    .dataframe tbody tr th {\n",
       "        vertical-align: top;\n",
       "    }\n",
       "\n",
       "    .dataframe thead th {\n",
       "        text-align: right;\n",
       "    }\n",
       "</style>\n",
       "<table border=\"1\" class=\"dataframe\">\n",
       "  <thead>\n",
       "    <tr style=\"text-align: right;\">\n",
       "      <th></th>\n",
       "      <th>Pid</th>\n",
       "      <th>text data</th>\n",
       "      <th>Class labels</th>\n",
       "      <th>predicted_classes</th>\n",
       "      <th>predicted_raw_scores</th>\n",
       "      <th>date</th>\n",
       "    </tr>\n",
       "  </thead>\n",
       "  <tbody>\n",
       "    <tr>\n",
       "      <th>0</th>\n",
       "      <td>test_pid_1</td>\n",
       "      <td>im scared lie every day say ill make think mig...</td>\n",
       "      <td>moderate</td>\n",
       "      <td>0</td>\n",
       "      <td>0.498533</td>\n",
       "      <td>2023-01-01</td>\n",
       "    </tr>\n",
       "    <tr>\n",
       "      <th>1</th>\n",
       "      <td>test_pid_2</td>\n",
       "      <td>new wanted vent finally realized kind bad ment...</td>\n",
       "      <td>moderate</td>\n",
       "      <td>0</td>\n",
       "      <td>0.499537</td>\n",
       "      <td>2023-01-02</td>\n",
       "    </tr>\n",
       "    <tr>\n",
       "      <th>2</th>\n",
       "      <td>test_pid_3</td>\n",
       "      <td>sad kinda always issue say bad peer definitely...</td>\n",
       "      <td>moderate</td>\n",
       "      <td>1</td>\n",
       "      <td>0.249972</td>\n",
       "      <td>2023-01-03</td>\n",
       "    </tr>\n",
       "    <tr>\n",
       "      <th>3</th>\n",
       "      <td>test_pid_4</td>\n",
       "      <td>lonely alone immediately family member dead da...</td>\n",
       "      <td>moderate</td>\n",
       "      <td>0</td>\n",
       "      <td>0.460132</td>\n",
       "      <td>2023-01-04</td>\n",
       "    </tr>\n",
       "    <tr>\n",
       "      <th>4</th>\n",
       "      <td>test_pid_5</td>\n",
       "      <td>year trash dont know posting even know talking...</td>\n",
       "      <td>moderate</td>\n",
       "      <td>0</td>\n",
       "      <td>0.487959</td>\n",
       "      <td>2023-01-05</td>\n",
       "    </tr>\n",
       "  </tbody>\n",
       "</table>\n",
       "</div>"
      ],
      "text/plain": [
       "          Pid                                          text data Class labels  \\\n",
       "0  test_pid_1  im scared lie every day say ill make think mig...     moderate   \n",
       "1  test_pid_2  new wanted vent finally realized kind bad ment...     moderate   \n",
       "2  test_pid_3  sad kinda always issue say bad peer definitely...     moderate   \n",
       "3  test_pid_4  lonely alone immediately family member dead da...     moderate   \n",
       "4  test_pid_5  year trash dont know posting even know talking...     moderate   \n",
       "\n",
       "   predicted_classes  predicted_raw_scores       date  \n",
       "0                  0              0.498533 2023-01-01  \n",
       "1                  0              0.499537 2023-01-02  \n",
       "2                  1              0.249972 2023-01-03  \n",
       "3                  0              0.460132 2023-01-04  \n",
       "4                  0              0.487959 2023-01-05  "
      ]
     },
     "execution_count": 14,
     "metadata": {},
     "output_type": "execute_result"
    }
   ],
   "source": [
    "scores_data['date'] = pd.date_range(start=\"01/01/2023\", periods= len(scores_data), freq= 'D')\n",
    "scores_data.head()"
   ]
  },
  {
   "cell_type": "code",
   "execution_count": 15,
   "metadata": {},
   "outputs": [
    {
     "name": "stdout",
     "output_type": "stream",
     "text": [
      "<class 'pandas.core.frame.DataFrame'>\n",
      "RangeIndex: 3245 entries, 0 to 3244\n",
      "Data columns (total 6 columns):\n",
      " #   Column                Non-Null Count  Dtype         \n",
      "---  ------                --------------  -----         \n",
      " 0   Pid                   3245 non-null   object        \n",
      " 1   text data             3245 non-null   object        \n",
      " 2   Class labels          3245 non-null   object        \n",
      " 3   predicted_classes     3245 non-null   int64         \n",
      " 4   predicted_raw_scores  3245 non-null   float64       \n",
      " 5   date                  3245 non-null   datetime64[ns]\n",
      "dtypes: datetime64[ns](1), float64(1), int64(1), object(3)\n",
      "memory usage: 152.2+ KB\n"
     ]
    }
   ],
   "source": [
    "scores_data['text data'] = scores_data['text data'].astype(str)\n",
    "scores_data.info()"
   ]
  },
  {
   "cell_type": "code",
   "execution_count": 16,
   "metadata": {},
   "outputs": [
    {
     "data": {
      "application/vnd.plotly.v1+json": {
       "config": {
        "plotlyServerURL": "https://plot.ly"
       },
       "data": [
        {
         "customdata": [
          [
           "im scared lie every day say ill make think might thought wanted girlfriend realize really want feel loved ive spent year earth ive felt completely alone forever heart hurt subconscious taunt every night wake reality im loser worth anyones time im scared live like day die im torn inside im much coward end im sorry"
          ],
          [
           "new wanted vent finally realized kind bad mental state feeling dread want work made excuse go work kind feel like stem financially unstable living pay check pay check hating job toxic environment enough feeling like walk eggshell around people people talk standard school trying keep grade know thought console want anything kind sad know explain hope someone relate"
          ],
          [
           "sad kinda always issue say bad peer definitely bad lot obviously write cause would take say grand scheme thing basically really happy happy definitely started get really bad last year always issue growing emotional growing time th th grade self esteem issue much reason like tbh hated almost everything like middle th th grade found group friend would hang everyday everything felt authentic like always said shit got along great lie something start shit someone else like stuck hard explain stopped talking first one ended stopping talking friend friend stopped wanting hang friend u anymore stayed inside day friend prioritizes school lot thing basically alone like yeah could text people really enough easy make new friend introvert honestly awkward know happened th grade th grade far worst year grandfather passed away father dad really life first year found girlfriend cheated grade slacking causing stress alone close friend lot time honestly wanted kill found another girlfriend shes great close still feel depressed senior year whole reason started feeling way february break lot time able reflect lot night smoked weed think knew going well every vacation whether summer holliday april february whatever get really sad smoke school something morning cause morning hell thinking realized dependent people need social interaction real life stay happy issue able get even sometimes still happy know month ago gf broke happy obviously sad finally gonna get help everything bad sound know need without genuinely think live pretty much point feel like would never tell want feel trapped know really bring tell mom sister suicidal hurt whole family want feel bad want put med something either know stayed home school yesterday want motivation lot kinda wrote couple minute probably forgot important stuff main issue really paragraph know issue know fix well bring tell anyone"
          ],
          [
           "lonely alone immediately family member dead dad died yr ago grandmother yr ago mom month ago grandfather month ago six month jobless depressed job working service technician love still episode feel lonely depressed miss family fiancee daughter depression come go like crazy make worse still living mom old house right scared move wont stable live long time talking yr bring anxiety eventually depression period still thought rare needing reply needed vent"
          ],
          [
           "year trash dont know posting even know talking family talk problem attention seeking try guess tired keeping year left year long abusive relationship raped stalked broke harassed relentlessly scared leave home scared even home always worried show spent time door locked hiding behind couch thought would get better developed major health problem lost job loved job lot huge escape always fun surgery surgery awake entire procedure ever since made mental health much worse house trying buy sold job gonna sell house anyways like every time start looking get million time worse even know point nothing getting better everything getting worse handle keep coming need break need something even got job back would help immensely want relief"
          ],
          [
           "needed yell void po currently also physically sick home parent parent really want work break uni want time really scared even make phone call social anxiety gotten much worse since stopped therapy thing thing anxiety worse hate applying job rejection everytime make feel fucking shitty could least work home would make thing easier skill qualify anything still uni student struggling depression thought killing daily know ask help friend distanced everyone fault stuck major hate find job useless biggest disappointment stand looking mirror try stay distracted nothing fun wasting life away nothing day deserve life hate uni hate life killed would scared happen succeed want parent get angry blame wanna good life think even able point stop like hate much want everything stop"
          ],
          [
           "know anymore feel like alive solely exist purpose life take joy activity something may dampen feeling come back stronger felt normal long time forgot normal went confident young man whole life ahead someone even recognise anymore crippling self doubt anxiety roof hobby used give pleasure anymore hate listen voice head shell man know much longer go want commit suicide would break family wish every day tragic freak accident happen good family good job good friend roof head food fridge reason feel like yet every minute every day past year try reach professional help get passed one person another always someone else problem know much longer"
          ],
          [
           "dont want anymore dont wanna die dont wanna hurt genuinely wanna exist anymore wish could disappear never first place im fucking useless dont know get fantasize someone absolutely fucking wrecking car accident something dont want people miss grieve thought make feel guilty worst thing fact finally cutest lil dog ive wanted forever loving relationship ive got okay family im get bachelor im discernible reason feel hopeless burnt plain sad guess im trying say good chance pretty good life stupid fucking piece shit brain wont let anything get theory know need get step gotta take literally sit know fucking time time alseep since much shit tomorrow ive put week instead im wide awake posting whatever reason want attention advice want anything dawg feel like waste space honestly chance stop without causing pain loved one would take pronto bro year also fuck fuck theee ffuuuuuuuuuuuuck"
          ],
          [
           "antidepressant antidepressant help depressed started taking get rough patch helped mean technically depression read online antidepressant help depressed"
          ],
          [
           "tm doctor want tm depression anyone done tm want know worth"
          ],
          [
           "fault fault fault knowing handle depression fault depression skipped class three day fault getting bed fault best fault fatigued mine"
          ],
          [
           "explain mom mental health guy help talk mom might depression amp anxiety need professional help mom nicest human amp know care never talked internal struggle terrified react family react might even treat differently afterwards might cheerful happy go person portray persona front family pretend fine laughing time cracking joke helping mom chore etc struggling much past yr dealt alone going downhill amp get suicidal thought main reason never reached never struggled major might lead feeling like severe trauma abuse infact privileged loving supportive amp overprotective family food clothes home nice education amp way easier life family people family went lot shit still might effect mental health sort amp never seek special help make feel weak amp selfish reaching sometimes feeling like faking feel like burden amp disappointment family waste space resource time amp wish could donate life someone even though getting better mental illness still looked upon amp stigmatized mad psycho seek professional help due people rarely ever reach help exhausted feeling like shit scared running away problem amp wanna something thanks advance anyone replying even reading instead scrolling first post amp mean lot lastly apology lack english skill native lang"
          ],
          [
           "dealing morbid depression loss mom running money guy get back work recently lost mother foundation life died cancer last month two given single apartment left college quit job loved move home bartending bit depressed absolutely unbearable tried going back work two day ago walk getting nauseous running extremely low fund even find energy change pajama wearing three day brush teeth completely lost know"
          ],
          [
           "starting imagine plan life without year age countless med doctor therapist tired really really tired taking make day perform work thinking family make contribute part financially broke husband already work long hour body hurt badly mind tired friend left immediate family consists kid husband strong long hid long could anymore everyday holding bottle pill hand could take med plus bottle sleeping pill call day want bad check go work today job hate pretend eventually hate job flaw really good everything amazing fake tired fake lot work tell joke make people laugh least used trying get see someone amazingly one around taking new patient take insurance want say well go kill thanks everybody else want end"
          ],
          [
           "feeling detached people disassociation like part part underneath real feel broken fragile weak tired part people see come people love around like automatically get happier look normal feel okay completely better mentally okay rut year say gotten much worse last year since started spending time room eat sleep wake phone eat sleep cycle go week f reference tried many time get damn hard like relapse right word think depressed know mentally okay need sort life know start"
          ],
          [
           "depressed international student studying canada august moved canada initially moving canada ex girlfriend family accident happened stay back ultimately resulted lot stress year old last high school year feel like make warned board multiple time absence teacher want succeed see really hard motorcycle accident last december went back home christmas resulted significant injury leg resulted absence paid lot money move moved due depression depression really hitting think hold june explained school problem everyone knew motorcycle teacher knew depression problem however way worse think also high grade student helpful guess make self get bed morning verge getting kicked high school country since international student legal help help hold month"
          ],
          [
           "nothing keep calm tried keep suicide hard make mind stay clear suicidal thought unless take easy decided anything heavy difficult lacking behind schedule writing thesis kinda feel lame want stop need keep scholarship contract ended even though probably could finish"
          ],
          [
           "weight gain due depression let rephrase gained weight solely due unhealthy eating tend eat feeling particularly felt way last year led putting whopping lb last year upset hate look make depression worse grew healthy household mum made nutritious meal u make healthy meal home husband weight gain due unhealthy snacking especially binging potato chip chocolate feel bad husband deal although never complained plus sex life really taken hit never size really affecting started taking step help limiting amount unhealthy food eat snacking vegetable fruit would appreciate help making mental switch relying food happiness thank"
          ],
          [
           "think depressed f empty time filled fear anxiety despair fake ok help sink deeper sleep want sleep back hurt lie anymore fucked schedule know lazy dont want start new day matter prolong today tomorrow come least little bit longer great job love least loved want lose greatest place ideal place yet struggle get start working need help family one loose job plumet poverty brother steal money grown as man desperate alcoholic hide wallet still manages grab penny left unnatended unemployed unmotivated leave home tried leave mother lonelyness make everything time worse dad say cry stole couple buck well shrug like nothing happened yet artist make art point enjoy enjoy video game enjoy book movie hobby whole damn cupboard filled material create something beautiful feel rot turn dust find strength use feel like cry every time something minor go wanted expected even nothing go wrong still worry get teary fear sometimes look roof nearest tall building wonder easy get end maybe door locked maybe make step peace never even get close building want upset mom make gone family go ruin worst thing reason keep breathing friend talk afraid never friend year wreck sorry disgusting therapist said depression personality guess sad sack shit normal"
          ],
          [
           "hope drug care anyone say hope addicting substance drug pump mind give smile think real taken away hurt much body go withdrawal"
          ],
          [
           "way therapy option tired repeating weak minded person literally little thing bring point go straight suicide wanting cry constant feeling emptiness reason living parent believe therapy take"
          ],
          [
           "happy people piss know see people care free happy get mad like taunting something saying hey happier loneliness problem rub face know people generally happy think feel like"
          ],
          [
           "even know go college get education good job support keep living miserable lonely life always lived disappointing parent incentive left truly care life anymore waste oxygen"
          ],
          [
           "cutting cut take away pain never like depression anxiety like self harm"
          ],
          [
           "wish could go back time back smiled back motivated excited life back friend family back could make sound decision fuck life everyday becomes harder last"
          ],
          [
           "tifu telling parent feeling depressed told parent feeling course reacted expecting believe think problem mom yell told going failure point feel like sinking bed heart sank terrible feeling suck people close believe"
          ],
          [
           "depressed yet still know deep die suicide depressed month sure get big ups down yet still core feeling without doubt die suicide one day hard anyone including understand even harder express"
          ],
          [
           "got little mental breakdown school today math class day mask fell got breakdown allowed listen music maybe played sad song layed arm solved question suddenly one song came thought worthless started cry silently still solved equasions stuff wet think one noticed longer breaking start ruin life"
          ],
          [
           "think time even going use throwaway really scared relieved today day get finally take break finally get take breather today think die"
          ],
          [
           "need vent think depressive episode really scary last time went around year ago almost took life terrified getting point keep thinking something going deal rest life going always live fear darkness creeping back time though trying proactive get therapy unfortunately soonest could see someone end next month trying get trying hard keep head water life different time live mom house anymore mile away support system last time bill pay work manager clothing store keep shit together depend time feel slowly start stink scary feel alone time suck feel like burden anyone try reach fact far away family friend isolating trying make new friend live hard want work lay bed cry idk point post need let tend keep thing bottled trying better know better really care nobody responds really needed shout void"
          ],
          [
           "giving hobby passion completely given feel like good enough keep pursuing love theater writing art feel like point even get audition sit write story want depressed hate become"
          ],
          [
           "tf awful title say really fucking awful stand genuinely want die know physically feel like anything like even able get bed today really fucking hate fuck"
          ],
          [
           "weird want die see next sometimes feel life bring nothing bound always hoping working always feel like one wrong move away completely ruining life end regretting everything time older seems exciting idea dying finding next maybe another life maybe get another shot living maybe even nothing care want whatever next feel done life honestly reason always feel minute away dying feel like living another day dead weird feeling anyone else lowkey excited death see letting go fresh start"
          ],
          [
           "know past year difficult energy get bed go class dropped medicine taking worked beginning seeing result anything worse brain saying well medicine obviously fault screwing life tired"
          ],
          [
           "even eating become chore everything exhausting meaningless want lie darkness close eye never open"
          ],
          [
           "surviving every day take mental physical capacity exhausted anything prevent suicide random circumstance luck forced still lunchtime falling asleep come simplest solution anything work normal life simplest logic escape forget everything gave learning programming like th time like year repeatedly trying giving still even fucking write line code fibonacci sequence like day stuff normal people head hurt trying think verge cry every second every day"
          ],
          [
           "job interview today job interview hour currently couch almost curled ball want skip whole thing prepared even left house week want go need work depression anxiety worse ever despite medication used high functioning think med actually make easier blow thing procrastinate hell right"
          ],
          [
           "mind die right ever ever die hand know burden parent already useless even invested much time money love commit suicide burden hundredfold suffer would unfair blame good would cruel repay instanr death little bro best friend life best friend dying crushing put kid traumatising cruel besides hate physical pain loathe cowardly even try gun banned healthcare good might save fast try thought cutting bit remember fuss one time accidentally cut wound bled minute went doctor actually fine pay much cash doc check properly yea expensive still deepest cut ever gotten still scar money shame rot wait die naturally existing living guess lazy"
          ],
          [
           "see living past midnight totally rambling co sleep sorry advance see past posted thought year ago thought got better deep though still kind life kind world city live dying evil people get consequence selfishness lead prosperity work appreciated cope thought new job month still fucking cope rotation knew exactly everything run every detail half year still suck everything used able speak mind freely without worry people using word trust people thought could trust stabbed hard behind back everything shit job quit small city small circle specific profession everyone know everyone really see future really expect able cope every single crisis make thirty get kill would absolutely hate hurt parent boyfriend sometimes tiring carry mean point"
          ],
          [
           "subreddits ask donation turn therapy expensive might need bit help initial session costly subsequent session might able manage anyone know subreddit help"
          ],
          [
           "finally asked help suffering around year hitting new low recently finally worked courage tell mom situation told need see somebody prevent getting worse surprised able work courage say something sure right thing though put med help make thing worse anyways thanks reading nice day"
          ],
          [
           "life falling apart know begin actually apologise poor grammer life took unexpected turn half year ago stroke lived tell tale lost use right hand yes right handed first month fine concentrating getting home wife well better much improved could always thought people saying depression bit roll eye moment severe case knew people bad know case personality changed complete utter dickhead lost friend pushed family away quick anger keep upsetting people love love around trouble getting work know right iits probably best place k moment feel need struggling lost many friend pushed people away hurt wife ruining life moment get help need im going wait month regular therapist appointment nh chronically underfunded got help sooner want get better well everyone"
          ],
          [
           "depression physically hurt boody isi"
          ],
          [
           "depression physically hurt"
          ],
          [
           "know really hate alone hate around people actual friend cannot make new one know fuck wrong time still laugh sure wether genuine ups down like seesaw still feeling completely miserable completely forgotten cut cope know describe utter sense nothing come back go away get worse get monotone never complete people say get better really think exist happy sad bunch emotion die everyone forgets u really bad cutting take away social stigma around self mutilation really way healing mentally want die find bloody reason family survive without escape decade could kill everyone would forget existed would truly nothing missing life stand face fact control anything life even death really want go away going tell self harm suicide answer well aware heard multiple time reason even one really wish dead wish never really existed"
          ],
          [
           "completely numb thing used like care video game boring annoying music sound good anymore interest friendship relationship anymore"
          ],
          [
           "everything getting worse past year complete downward left school left job pretty lost last friend left barely leave house anymore family see suffering care talk shit everything hard worked keep everything together gone matter see hopeless lazy piece shit want go away friend thought ignore sleeping escape eating fill void vomit afterwards detached reality already feel like dead"
          ],
          [
           "planing kill today felt joy year whole life feel like waste least healthy likely suffer chronic pain know go losing mind right want hurt family much see point living anymore"
          ],
          [
           "kind really want die know deal tired think single person life would even care feel way please help tired"
          ],
          [
           "know keep getting hope amp know put faith people realize nobody care noone ever cared know keep thinking maybe keep giving chance maybe today maybe tomorrow keep telling thing finally get better time next time everytime end left behind end getting cheated end nothing got nothing future gonna get far worse still dream day calm peace man never day peace life never even normal day every day another day full misery pain person learn stupid brainless idiot biggest looser ever know still end life giving million hint end kill get nowhere noone never loved cared still much retard realize best end tried failed know suffer take anymore one cut life strong enough endure anymore"
          ],
          [
           "one except people actually understand depression teacher always back wearing favorite hoodie thing make feel comfortable skin parent yelling cause mark going realizing maybe need break rest get back track brother continually annoys harasses saying depression everyone school people life actually understand give shit going done"
          ],
          [
           "get bed please help guy"
          ],
          [
           "really need help advice really appreciated quite story originally ohio really religious family going college became atheist family basically stopped really caring happened life make matter worse always religiously sheltered growing never really made many close friend well lot thing life wound moving colorado year back met girl really liked dog lived family invited move paid parent week talked getting dog month relationship fell completely love dog mira family well year relationship broke really nowhere thought happy time seasonal job ending also home found friend adopted family job girlfriend everything gone least dog tried make thing work somehow month dog really nervous take dog day care also afford dog walker let alone even afford place allows dog also extremely guilty leaving along hour day work like kill lab attached used many dog backyard dog door family coming going work could tell depressed moved ohio thing little cheaper maybe might make thing work soon got back mira came realization family unwilling help dog place stay job way finding housing living car dog week give give dog shelter drove way back colorado drop ex family secret told going get rid come back get came back ohio without mira realizing nothing family care job prospect field outdoor recreation friend moved last ohio nobody reaching attempting see feel absolutely alone dog even reached family feeling extremely depressed maybe suicidal help told want around scaring hurt amazingly bad feeling extremely alone depressed right really know right thing dog feel overwhelmed guilty leaving really take day care without feel truly stunningly alone go back colorado soon get lose forever feel extremely depressed see solution way anyone kind idea need help badly right"
          ],
          [
           "lost appetite crazy bad get quickly couple day ago fine one bad event send tailspin anxiety harm feel absolutely empty hurt feeling bully friend calling bad behavior know probably fine considering hanging friend tonight went bar last night instead barely eaten past day last night stayed bed work staring ceiling fact perfect example hiding mental health preserving friend group peace remaining outwardly strong towards others accidentally found like playing martyr inside crumbling ashamed admit proportion reaction fault let friend know physically upset feel like burden mental health time like sorry better"
          ],
          [
           "see beauty anymore know beauty life time spend loved one precious moment able see rainbow raining countless breath take daily basis miraciulously keep u alive much cognition know beauty right feel lost ability truly recognize feel got type colourblindness hurt much know able truly see also aching mourning something thing left hope able get like time everytime hope decrease honestly significant point make felt urge share thought hope people may able relate"
          ],
          [
           "broke girlfriend night ago taking really hard hard find motivation anything right person wrong place type situation even thing really care love adore girl mental problem big handful especially since already hard enough time dealing mental problem tried committing suicide week back moment incredibly stressful haunting felt like since stay together would happen point handle broke would happen right felt trapped lot mind feel bad able stand anymore fight demon still fighting feel like win fight stay worked hard far long make progress made far mental health go used behavioral hospital since early age lately going gym getting plenty sunlight meditating literally anything believe make feel better since broken thought immediately able jump back return goal orientated overachiever know instead feel grief loneliness regret shame hard get bed get thing done work thing keeping going right soon end back bed motivation able eat already underweight feel like taking toll want sleep shut existence feel like hit rock bottom something get motivation back"
          ],
          [
           "dont know current situation ive really messed overbthe last month feel poorly thing started well april started fail master id previously got mostly distinction one module really bad managed pas really messed bad mentally tried cover ended quiting min wage job month later crushing startes struggling thesis ended handing ive missed graduation due submit mean grad job finance tanked massivly depression dug massive grave im struggling get ive spoke lecturer shes helped load understanding still cant finish thesis feel fucked im struggling get job aswell im absoloutly crushed past month ive barely able eat due poor finance dont even know turn anymore feel trapped cant finish master cant find mental capacity get min wage job help turn im absoloutly broken core dont even know begin really feel like throwing towel calling quits im trapped fault"
          ],
          [
           "dont know happening dont feel like ill thing past week going planned everyone prevents almost everything going shortcut school door eating opening window breath fresh air biggest part studying feel everyone dick everyone everyone screaming school like school obviously feeling depressed like thank god friend support never thought hurt come home school hide emotion whenever feel relieved happy something someone ruin happiness every god damn time add every week february going wrong week test total study homework middle dont know depression feel sad almost every day try relieve self playing video game long walk said something ruin fun help tell think"
          ],
          [
           "might depression honestly dont even know whether got depression dont even know whether need counselling theraphy"
          ],
          [
           "trapped career year old job make figure year absolutely hate job satisfaction day day thing feel useless sick hearing people depressed every day feel like would better world even want get bed want start business much debt student loan mortgage feel trapped anyone else feel way anyone give advice"
          ],
          [
           "need talk really tough situation money find job dead end wanted end since also insurance go see professional free pulled together seems like figured earn money pay everything back finally something self care without medical help feel like everything purpose sense boyfriend tried help like anybody know feel skin much understanding make sense even want live wish could explain awful thought im close intimate rational come head work get wrong really supportive sometimes something brake guess probably hopeless come thought anxiety love much want able explain know anymore really need talk someone understands"
          ],
          [
           "hope help sure feel like feel like comfort help anywhere pain stress become constant life driven near edge lately hit deluge put mildly unpleasant life event left wondering much expected take try find comfort cultivating balanced life nothing seems help either stumble across something make everything worse nice evening friend lead right back crushing death spiral depression soon arrive back home empty flat work used bring pleasure least measure purpose feel like insurmountable obstacle often even bring face last minute case last minute recent romantic dalliance since unwanted divorce offered flowery promise love life together ended heartbreak truly began therapy temporary bandaid prematurely get ripped appointment leaving picking scab next time inpatient treatment subjected superficial group therapy meeting best doped antipsychotic worst treated prisoner forget realistically turn total cliche say one get true one felt way get sympathize try best understand pain helplessness something truly grasp particularly religious mind well heart simply believe god afterlife since make sense dearly wish could people know seem happy fulfilled hopeful however try find small comfort ritual prayer grew stop cry universe god deliver hell found necessarily death something give coupled constant overbearing weight depression onslaught pain become entirely much bear say real help come within nothing inside nothing give world even truly come doomed"
          ],
          [
           "uncertain would like die scared repercussion specifically attend birthday party gathering say goodbye friend moving next day want ruin celebration"
          ],
          [
           "everything wrong everything horrible know feel like everyone hate go anywhere stay isolated distracting shitty film hiding away room whenever people talk plan future make want kill feel bad knowing going happen keep telling end leave school may seem place need let somewhere fucking explode"
          ],
          [
           "depressed nothing look forward wake feeling depressed anxious everything look mirror feel look ugly allowed public disgusting looking"
          ],
          [
           "would never say loud wanna get see picture people went school social medium friend exactly livin best life whatever hanging nothing never someone could nothing never best friend even close friend matter like pushed people away sorta happened became one everyone completely forgot even know maybe maybe give laugh hug forgotten forever wish someone favourite person least friend could talk even group chat social medium bad anxiety help either right writing note app even sure post imagine anxiety bad even post something site like reddit looking attention anything venting get getting crowded gonna posting sub coz sure fit come across hello thank listening"
          ],
          [
           "deserve feel unhappy starving child throwaway posted different subreddit would like wide range opinion thought mine stopped speaking someone mental state group friend none know depressed one said people depressed got money phone food etc year ago ever since whenever get awful feeling think back said wanting die hating life money buy food every day electronics loving family sorry sound dramatic sound like looking attention never truly opened anyone fear getting called gay pussy male friendship group need anonymous opinion"
          ],
          [
           "whole life fallen apart everyone hate friend hate mom hate dad busy talk family person boyfriend probably leave soon eat lunch bathroom one class talk got boyfriend friend accidentally suspended incident jokingly started ended almost getting beat meant harm cried day leave school early eat head pounding hope point living one care everyone hate bad mean person think everyone want end fail get readmitted psych ward promised ever went back would kill know anymore"
          ],
          [
           "help need advice know depressed think professionally diagnosed want self diagnose need advice female high school secondary school closeted bisexual feeling unmotivated school rarely ever motivation homework get bed go school noticed often used share rarely talk anyone leaving make rant twitter account anybody asks day say little possible stop annoying sharing quickly change topic used anyone asking anything people often talk around listen problem listen help sometimes want someone talk well everybody around ticked easily let want guess say one talk n coming yes somewhat closeted bi closeted family scared coming know outcome live country lgbtq widely accepted kinda hard know girlfriend sometimes get feeling love almost one sided feeling unmotivated sometimes even think suicide really stupid sure really unconsciously dramatic much built share wanna bore stupid problem would really appreciate advice right lost"
          ],
          [
           "many issue recover giving high degree insecurity come lack career job social situation appearance others sexual experience lack general self horrible experience adolescence brought onto sheer stupidity lack perspective others age similar situation time made much better decision lead rational conclusion defect equation made worst decision possible still paying consequence mid nothing job friend prospect desire live confidence good reason wish let treated badly wish made dumb choice wish born family wish grown shit neighbourhood wish listened people much want live think ending life every day going anywhere youth draining quickly absolutely nothing show feel crushing weight despair every waking moment"
          ],
          [
           "purgatory hate saying depressed happy time life fairly easy dont really want die tired living want start fear take life hurt people care wish could talk friend family problem fear would think attention constantly feel like making thing worse actually normal"
          ],
          [
           "smart enough make good title hate saying depressed happy time life fairly easy constantly feel like making thing worse actually normal"
          ],
          [
           "tired really tired know really hard working guy study work take care girlfriend serious case depression etc good son could say good citizen tired today got drunk kind dinner took shot cooking one could see way everything shit least drunk wish joint"
          ],
          [
           "endless cycle keep distance potential lover know good enough yet continue court make truly believe head slowly begin turn longer beautiful girl world sigh yes babe pretty ask year later cheated asked get know look like warned didnt seen year prior moving life gave many presented opportunity run without hurting waited year later tell could never love someone look like could blame"
          ],
          [
           "last therapist psychiatrist advised find girlfriend actually great advice one small problem least desirable person entire planet real friend family hate know care anything anyone whenever walk around public people give dirty look assuming drug people screaming swearing insulting every workplace set foot like social interaction look like guy want work fair judgement dating look people like people care life going care care anything anyone yeah loser needed vent"
          ],
          [
           "worth think life lot hard think aimlessly scrolling facebook reacting post actually like wanted please whoever shared walking street surrounded people uncomfortably staring sitting class surrounded called friend mine openly honestly love never really bring accept looking crush even know exist instead looking adoringly someone else letting frustrated sigh whenever anyone talk group chat people start spamming hundred message minute forth many painful reminder supposed living supposed existing like everyone else instead unnatural try force feel anything care people age usually care social life partner well paying job party could fuck stranger forget morning popular song instagram account thousand follower care anything anyone anymore nothing brings happiness sadness normal feeling feel emptiness anger reason even know connect people always lose focus whenever someone talking feel alone noisy lecture room nobody stop look unless anyone else whine gush suddenly become important person world conveniently right place right time used punching bag watch sappy romantic movie time time listen love song various decade often sometimes wonder someone ever feel way someone ever hold arm tell nowhere else rather parent two people world ever loved happens die else love genuinely give shit ask whether ate today drank water changed clothes fucking hate one else rather see dead else nobody might well accept fact right get shocked upset find old withering human dying alone cold bed alone world feel anything become apathetic wanna drop college pack bag disappear forever kill first know still wake morning know bother worth living pathetic life mine worth"
          ],
          [
           "feel like failure feel like failure always make wrong choice get depressed state mind feel like life even done high school"
          ],
          [
           "sometimes people either oblivious choose care may intend harm u hurt removed"
          ],
          [
           "last night told would get time get school spend day working class project today stayed bed hour leave house watched youtube video day quickly fired ever get job"
          ],
          [
           "god damn frustrated im damn frustrated time want scoop eye spoon slash wrist ever im huge asshole im abuser im horrible son im massive piece shit nobody want around feed pity im sick shit woe im grabbing pistol im sick tired nuisance around others never wanted hurt anyone fuck shit im"
          ],
          [
           "make worse watching girl movie second came screen thought began race wow nice body wish nice body maybe loved bet shes loved shes worthy love life get shot bf loudly proclaims nooo perfect tit cant die like dude got back contemplating suicide hate body much say thought like thanks proving point"
          ],
          [
           "happy someday removed"
          ],
          [
           "first time afraid im back started depression really long story originates third girl first two always best friend time family parent thought fine cried lot bullying middle school race outcasting age group church law trying convince get pregnancy loss right happened month old son everything bring light world thought everything would good something live however expecting second trying get career home going feel depressed became mom never wanted back thought beat cry feel like matter even though expecting child one asks going one try make sure okay one asks exciting detail even though excited try get mind continuing youtube video become passion want share passion yet fact share content one subscribes make feel important know sub happen right away fact work hard disney trying hard put effort something really care one care one care killing feel like doctor care used treat like actually friend everyone think life know going depression know downplay feeling say pray feel better make feel better want someone understand know feel like matter hate thinking world change died feeling normal starting care gaining weight gaining good amount proud literally one else underweight know think anymore want give depression breaking know late"
          ],
          [
           "call tillicum great job year pay really good boss co worker kind appreciative clientele part amazing spend majority morning commute wishing get hideous car accident go today thing great job lucky also pointless repetitive meaningless work upward mobility front staff one seniority everyday leave ahead life walked morning year ago sure helped get car pay rent help family get dog hour long working weekend make really hard socialize feel like orca went crazy tank started murdering trainer swim circle long enough anyone go crazy know depression talking maybe get maybe stupid quit would different another job also kind dirtbag move one co worker cancer right stressful everyone training new temporary girl th last month even stress right add stress know"
          ],
          [
           "ever feel like depression selfish hole removed"
          ],
          [
           "hate really well school slipped feel completely trapped school impossible go absolutely fucking hate idea get"
          ],
          [
           "thank breaking want say thank ex loved anyone even thank cheating lying asked support depression thank continuing lie sex girl said horrible thing still scar self harming thank telling self harming anyone business thank bashing behind back girl cheated multiple time still drink smoke every day forget still self harm still want die still remain hating questioning every day wanted say thank"
          ],
          [
           "think died long time ago exactly living called lifeless told wasting away told wasteful le zombie wastefulness painful live capable healthy lying get something anything little thing enough never slowly come bedridden stupor motivation next non existent honest probably died died fateful day october wish overdose worked different worthless life living maybe hell"
          ],
          [
           "much longer probably kill soon nothing fun minute feel like hour feel like day done world friend girlfriend dog thing keeping shit world"
          ],
          [
           "th birthday today literally nobody care one person even sent simple text even one know sure know even family go show insignificant really think would nice could muster courage kill today die day born today sound like nice day die"
          ]
         ],
         "hovertemplate": "date=%{x}<br>predicted_raw_scores=%{y}<br>text data=%{customdata[0]}<extra></extra>",
         "legendgroup": "",
         "line": {
          "color": "#5d35f2",
          "dash": "solid"
         },
         "marker": {
          "symbol": "circle"
         },
         "mode": "lines",
         "name": "",
         "orientation": "v",
         "showlegend": false,
         "type": "scatter",
         "x": [
          "2023-01-01T00:00:00",
          "2023-01-02T00:00:00",
          "2023-01-03T00:00:00",
          "2023-01-04T00:00:00",
          "2023-01-05T00:00:00",
          "2023-01-06T00:00:00",
          "2023-01-07T00:00:00",
          "2023-01-08T00:00:00",
          "2023-01-09T00:00:00",
          "2023-01-10T00:00:00",
          "2023-01-11T00:00:00",
          "2023-01-12T00:00:00",
          "2023-01-13T00:00:00",
          "2023-01-14T00:00:00",
          "2023-01-15T00:00:00",
          "2023-01-16T00:00:00",
          "2023-01-17T00:00:00",
          "2023-01-18T00:00:00",
          "2023-01-19T00:00:00",
          "2023-01-20T00:00:00",
          "2023-01-21T00:00:00",
          "2023-01-22T00:00:00",
          "2023-01-23T00:00:00",
          "2023-01-24T00:00:00",
          "2023-01-25T00:00:00",
          "2023-01-26T00:00:00",
          "2023-01-27T00:00:00",
          "2023-01-28T00:00:00",
          "2023-01-29T00:00:00",
          "2023-01-30T00:00:00",
          "2023-01-31T00:00:00",
          "2023-02-01T00:00:00",
          "2023-02-02T00:00:00",
          "2023-02-03T00:00:00",
          "2023-02-04T00:00:00",
          "2023-02-05T00:00:00",
          "2023-02-06T00:00:00",
          "2023-02-07T00:00:00",
          "2023-02-08T00:00:00",
          "2023-02-09T00:00:00",
          "2023-02-10T00:00:00",
          "2023-02-11T00:00:00",
          "2023-02-12T00:00:00",
          "2023-02-13T00:00:00",
          "2023-02-14T00:00:00",
          "2023-02-15T00:00:00",
          "2023-02-16T00:00:00",
          "2023-02-17T00:00:00",
          "2023-02-18T00:00:00",
          "2023-02-19T00:00:00",
          "2023-02-20T00:00:00",
          "2023-02-21T00:00:00",
          "2023-02-22T00:00:00",
          "2023-02-23T00:00:00",
          "2023-02-24T00:00:00",
          "2023-02-25T00:00:00",
          "2023-02-26T00:00:00",
          "2023-02-27T00:00:00",
          "2023-02-28T00:00:00",
          "2023-03-01T00:00:00",
          "2023-03-02T00:00:00",
          "2023-03-03T00:00:00",
          "2023-03-04T00:00:00",
          "2023-03-05T00:00:00",
          "2023-03-06T00:00:00",
          "2023-03-07T00:00:00",
          "2023-03-08T00:00:00",
          "2023-03-09T00:00:00",
          "2023-03-10T00:00:00",
          "2023-03-11T00:00:00",
          "2023-03-12T00:00:00",
          "2023-03-13T00:00:00",
          "2023-03-14T00:00:00",
          "2023-03-15T00:00:00",
          "2023-03-16T00:00:00",
          "2023-03-17T00:00:00",
          "2023-03-18T00:00:00",
          "2023-03-19T00:00:00",
          "2023-03-20T00:00:00",
          "2023-03-21T00:00:00",
          "2023-03-22T00:00:00",
          "2023-03-23T00:00:00",
          "2023-03-24T00:00:00",
          "2023-03-25T00:00:00",
          "2023-03-26T00:00:00",
          "2023-03-27T00:00:00",
          "2023-03-28T00:00:00",
          "2023-03-29T00:00:00",
          "2023-03-30T00:00:00",
          "2023-03-31T00:00:00"
         ],
         "xaxis": "x",
         "y": [
          0.4985331147909164,
          0.4995371699333191,
          0.2499723732471466,
          0.460132360458374,
          0.4879592806100845,
          0.4999935030937195,
          0.4999317973852157,
          0.4981927722692489,
          0.24794402718544,
          0.9113568961620332,
          0.999978244304657,
          0.481381431221962,
          0.4962880313396454,
          0.4996963590383529,
          0.497649222612381,
          0.4973189085721969,
          0.2236725687980651,
          0.2498002499341964,
          0.4999856948852539,
          0.249966025352478,
          0.4998498260974884,
          0.4990536123514175,
          0.4811136126518249,
          0.4985327571630478,
          0.4999825656414032,
          0.4998876899480819,
          0.181921049952507,
          0.2117157876491546,
          0.4948771297931671,
          0.2295679897069931,
          0.0815956443548202,
          0.4999909698963165,
          0.4999627470970154,
          0.999936580657959,
          0.4910161942243576,
          0.2189299464225769,
          0.4865217506885528,
          0.4537402689456939,
          0.4999198317527771,
          0.2497034072875976,
          0.4999852478504181,
          0.4918873757123947,
          0.2057082056999206,
          0.1856253743171692,
          0.4993642419576645,
          0.2494027018547058,
          0.4998663812875747,
          0.4999724328517914,
          0.4933661073446274,
          0.0638184919953346,
          0.4695120006799698,
          0.4552157372236252,
          0.4997618943452835,
          0.4384080022573471,
          0.4999955892562866,
          0.4407246559858322,
          0.948389321565628,
          0.4999448508024215,
          0.2491829097270965,
          0.4998974353075027,
          0.4999208748340606,
          0.4999971985816955,
          0.2494038343429565,
          0.4999589622020721,
          0.4992348849773407,
          0.9021203517913818,
          0.4861162304878235,
          0.9992590844631196,
          0.4999255090951919,
          0.4999940097332001,
          0.4999633431434631,
          0.4912541359663009,
          0.4761887341737747,
          0.2499887943267822,
          0.249848872423172,
          0.4997811168432235,
          0.2124280333518982,
          0.2495748251676559,
          0.2483018785715103,
          0.4999058544635772,
          0.45009346306324,
          0.2483032345771789,
          0.4991639852523803,
          0.4981706291437149,
          0.1200961470603942,
          0.0862233266234397,
          0.996543675661087,
          0.4969771653413772,
          0.4959401935338974,
          0.4701001942157745
         ],
         "yaxis": "y"
        }
       ],
       "layout": {
        "height": 400,
        "legend": {
         "tracegroupgap": 0
        },
        "margin": {
         "t": 60
        },
        "template": {
         "data": {
          "bar": [
           {
            "error_x": {
             "color": "#2a3f5f"
            },
            "error_y": {
             "color": "#2a3f5f"
            },
            "marker": {
             "line": {
              "color": "#E5ECF6",
              "width": 0.5
             },
             "pattern": {
              "fillmode": "overlay",
              "size": 10,
              "solidity": 0.2
             }
            },
            "type": "bar"
           }
          ],
          "barpolar": [
           {
            "marker": {
             "line": {
              "color": "#E5ECF6",
              "width": 0.5
             },
             "pattern": {
              "fillmode": "overlay",
              "size": 10,
              "solidity": 0.2
             }
            },
            "type": "barpolar"
           }
          ],
          "carpet": [
           {
            "aaxis": {
             "endlinecolor": "#2a3f5f",
             "gridcolor": "white",
             "linecolor": "white",
             "minorgridcolor": "white",
             "startlinecolor": "#2a3f5f"
            },
            "baxis": {
             "endlinecolor": "#2a3f5f",
             "gridcolor": "white",
             "linecolor": "white",
             "minorgridcolor": "white",
             "startlinecolor": "#2a3f5f"
            },
            "type": "carpet"
           }
          ],
          "choropleth": [
           {
            "colorbar": {
             "outlinewidth": 0,
             "ticks": ""
            },
            "type": "choropleth"
           }
          ],
          "contour": [
           {
            "colorbar": {
             "outlinewidth": 0,
             "ticks": ""
            },
            "colorscale": [
             [
              0,
              "#0d0887"
             ],
             [
              0.1111111111111111,
              "#46039f"
             ],
             [
              0.2222222222222222,
              "#7201a8"
             ],
             [
              0.3333333333333333,
              "#9c179e"
             ],
             [
              0.4444444444444444,
              "#bd3786"
             ],
             [
              0.5555555555555556,
              "#d8576b"
             ],
             [
              0.6666666666666666,
              "#ed7953"
             ],
             [
              0.7777777777777778,
              "#fb9f3a"
             ],
             [
              0.8888888888888888,
              "#fdca26"
             ],
             [
              1,
              "#f0f921"
             ]
            ],
            "type": "contour"
           }
          ],
          "contourcarpet": [
           {
            "colorbar": {
             "outlinewidth": 0,
             "ticks": ""
            },
            "type": "contourcarpet"
           }
          ],
          "heatmap": [
           {
            "colorbar": {
             "outlinewidth": 0,
             "ticks": ""
            },
            "colorscale": [
             [
              0,
              "#0d0887"
             ],
             [
              0.1111111111111111,
              "#46039f"
             ],
             [
              0.2222222222222222,
              "#7201a8"
             ],
             [
              0.3333333333333333,
              "#9c179e"
             ],
             [
              0.4444444444444444,
              "#bd3786"
             ],
             [
              0.5555555555555556,
              "#d8576b"
             ],
             [
              0.6666666666666666,
              "#ed7953"
             ],
             [
              0.7777777777777778,
              "#fb9f3a"
             ],
             [
              0.8888888888888888,
              "#fdca26"
             ],
             [
              1,
              "#f0f921"
             ]
            ],
            "type": "heatmap"
           }
          ],
          "heatmapgl": [
           {
            "colorbar": {
             "outlinewidth": 0,
             "ticks": ""
            },
            "colorscale": [
             [
              0,
              "#0d0887"
             ],
             [
              0.1111111111111111,
              "#46039f"
             ],
             [
              0.2222222222222222,
              "#7201a8"
             ],
             [
              0.3333333333333333,
              "#9c179e"
             ],
             [
              0.4444444444444444,
              "#bd3786"
             ],
             [
              0.5555555555555556,
              "#d8576b"
             ],
             [
              0.6666666666666666,
              "#ed7953"
             ],
             [
              0.7777777777777778,
              "#fb9f3a"
             ],
             [
              0.8888888888888888,
              "#fdca26"
             ],
             [
              1,
              "#f0f921"
             ]
            ],
            "type": "heatmapgl"
           }
          ],
          "histogram": [
           {
            "marker": {
             "pattern": {
              "fillmode": "overlay",
              "size": 10,
              "solidity": 0.2
             }
            },
            "type": "histogram"
           }
          ],
          "histogram2d": [
           {
            "colorbar": {
             "outlinewidth": 0,
             "ticks": ""
            },
            "colorscale": [
             [
              0,
              "#0d0887"
             ],
             [
              0.1111111111111111,
              "#46039f"
             ],
             [
              0.2222222222222222,
              "#7201a8"
             ],
             [
              0.3333333333333333,
              "#9c179e"
             ],
             [
              0.4444444444444444,
              "#bd3786"
             ],
             [
              0.5555555555555556,
              "#d8576b"
             ],
             [
              0.6666666666666666,
              "#ed7953"
             ],
             [
              0.7777777777777778,
              "#fb9f3a"
             ],
             [
              0.8888888888888888,
              "#fdca26"
             ],
             [
              1,
              "#f0f921"
             ]
            ],
            "type": "histogram2d"
           }
          ],
          "histogram2dcontour": [
           {
            "colorbar": {
             "outlinewidth": 0,
             "ticks": ""
            },
            "colorscale": [
             [
              0,
              "#0d0887"
             ],
             [
              0.1111111111111111,
              "#46039f"
             ],
             [
              0.2222222222222222,
              "#7201a8"
             ],
             [
              0.3333333333333333,
              "#9c179e"
             ],
             [
              0.4444444444444444,
              "#bd3786"
             ],
             [
              0.5555555555555556,
              "#d8576b"
             ],
             [
              0.6666666666666666,
              "#ed7953"
             ],
             [
              0.7777777777777778,
              "#fb9f3a"
             ],
             [
              0.8888888888888888,
              "#fdca26"
             ],
             [
              1,
              "#f0f921"
             ]
            ],
            "type": "histogram2dcontour"
           }
          ],
          "mesh3d": [
           {
            "colorbar": {
             "outlinewidth": 0,
             "ticks": ""
            },
            "type": "mesh3d"
           }
          ],
          "parcoords": [
           {
            "line": {
             "colorbar": {
              "outlinewidth": 0,
              "ticks": ""
             }
            },
            "type": "parcoords"
           }
          ],
          "pie": [
           {
            "automargin": true,
            "type": "pie"
           }
          ],
          "scatter": [
           {
            "fillpattern": {
             "fillmode": "overlay",
             "size": 10,
             "solidity": 0.2
            },
            "type": "scatter"
           }
          ],
          "scatter3d": [
           {
            "line": {
             "colorbar": {
              "outlinewidth": 0,
              "ticks": ""
             }
            },
            "marker": {
             "colorbar": {
              "outlinewidth": 0,
              "ticks": ""
             }
            },
            "type": "scatter3d"
           }
          ],
          "scattercarpet": [
           {
            "marker": {
             "colorbar": {
              "outlinewidth": 0,
              "ticks": ""
             }
            },
            "type": "scattercarpet"
           }
          ],
          "scattergeo": [
           {
            "marker": {
             "colorbar": {
              "outlinewidth": 0,
              "ticks": ""
             }
            },
            "type": "scattergeo"
           }
          ],
          "scattergl": [
           {
            "marker": {
             "colorbar": {
              "outlinewidth": 0,
              "ticks": ""
             }
            },
            "type": "scattergl"
           }
          ],
          "scattermapbox": [
           {
            "marker": {
             "colorbar": {
              "outlinewidth": 0,
              "ticks": ""
             }
            },
            "type": "scattermapbox"
           }
          ],
          "scatterpolar": [
           {
            "marker": {
             "colorbar": {
              "outlinewidth": 0,
              "ticks": ""
             }
            },
            "type": "scatterpolar"
           }
          ],
          "scatterpolargl": [
           {
            "marker": {
             "colorbar": {
              "outlinewidth": 0,
              "ticks": ""
             }
            },
            "type": "scatterpolargl"
           }
          ],
          "scatterternary": [
           {
            "marker": {
             "colorbar": {
              "outlinewidth": 0,
              "ticks": ""
             }
            },
            "type": "scatterternary"
           }
          ],
          "surface": [
           {
            "colorbar": {
             "outlinewidth": 0,
             "ticks": ""
            },
            "colorscale": [
             [
              0,
              "#0d0887"
             ],
             [
              0.1111111111111111,
              "#46039f"
             ],
             [
              0.2222222222222222,
              "#7201a8"
             ],
             [
              0.3333333333333333,
              "#9c179e"
             ],
             [
              0.4444444444444444,
              "#bd3786"
             ],
             [
              0.5555555555555556,
              "#d8576b"
             ],
             [
              0.6666666666666666,
              "#ed7953"
             ],
             [
              0.7777777777777778,
              "#fb9f3a"
             ],
             [
              0.8888888888888888,
              "#fdca26"
             ],
             [
              1,
              "#f0f921"
             ]
            ],
            "type": "surface"
           }
          ],
          "table": [
           {
            "cells": {
             "fill": {
              "color": "#EBF0F8"
             },
             "line": {
              "color": "white"
             }
            },
            "header": {
             "fill": {
              "color": "#C8D4E3"
             },
             "line": {
              "color": "white"
             }
            },
            "type": "table"
           }
          ]
         },
         "layout": {
          "annotationdefaults": {
           "arrowcolor": "#2a3f5f",
           "arrowhead": 0,
           "arrowwidth": 1
          },
          "autotypenumbers": "strict",
          "coloraxis": {
           "colorbar": {
            "outlinewidth": 0,
            "ticks": ""
           }
          },
          "colorscale": {
           "diverging": [
            [
             0,
             "#8e0152"
            ],
            [
             0.1,
             "#c51b7d"
            ],
            [
             0.2,
             "#de77ae"
            ],
            [
             0.3,
             "#f1b6da"
            ],
            [
             0.4,
             "#fde0ef"
            ],
            [
             0.5,
             "#f7f7f7"
            ],
            [
             0.6,
             "#e6f5d0"
            ],
            [
             0.7,
             "#b8e186"
            ],
            [
             0.8,
             "#7fbc41"
            ],
            [
             0.9,
             "#4d9221"
            ],
            [
             1,
             "#276419"
            ]
           ],
           "sequential": [
            [
             0,
             "#0d0887"
            ],
            [
             0.1111111111111111,
             "#46039f"
            ],
            [
             0.2222222222222222,
             "#7201a8"
            ],
            [
             0.3333333333333333,
             "#9c179e"
            ],
            [
             0.4444444444444444,
             "#bd3786"
            ],
            [
             0.5555555555555556,
             "#d8576b"
            ],
            [
             0.6666666666666666,
             "#ed7953"
            ],
            [
             0.7777777777777778,
             "#fb9f3a"
            ],
            [
             0.8888888888888888,
             "#fdca26"
            ],
            [
             1,
             "#f0f921"
            ]
           ],
           "sequentialminus": [
            [
             0,
             "#0d0887"
            ],
            [
             0.1111111111111111,
             "#46039f"
            ],
            [
             0.2222222222222222,
             "#7201a8"
            ],
            [
             0.3333333333333333,
             "#9c179e"
            ],
            [
             0.4444444444444444,
             "#bd3786"
            ],
            [
             0.5555555555555556,
             "#d8576b"
            ],
            [
             0.6666666666666666,
             "#ed7953"
            ],
            [
             0.7777777777777778,
             "#fb9f3a"
            ],
            [
             0.8888888888888888,
             "#fdca26"
            ],
            [
             1,
             "#f0f921"
            ]
           ]
          },
          "colorway": [
           "#636efa",
           "#EF553B",
           "#00cc96",
           "#ab63fa",
           "#FFA15A",
           "#19d3f3",
           "#FF6692",
           "#B6E880",
           "#FF97FF",
           "#FECB52"
          ],
          "font": {
           "color": "#2a3f5f"
          },
          "geo": {
           "bgcolor": "white",
           "lakecolor": "white",
           "landcolor": "#E5ECF6",
           "showlakes": true,
           "showland": true,
           "subunitcolor": "white"
          },
          "hoverlabel": {
           "align": "left"
          },
          "hovermode": "closest",
          "mapbox": {
           "style": "light"
          },
          "paper_bgcolor": "white",
          "plot_bgcolor": "#E5ECF6",
          "polar": {
           "angularaxis": {
            "gridcolor": "white",
            "linecolor": "white",
            "ticks": ""
           },
           "bgcolor": "#E5ECF6",
           "radialaxis": {
            "gridcolor": "white",
            "linecolor": "white",
            "ticks": ""
           }
          },
          "scene": {
           "xaxis": {
            "backgroundcolor": "#E5ECF6",
            "gridcolor": "white",
            "gridwidth": 2,
            "linecolor": "white",
            "showbackground": true,
            "ticks": "",
            "zerolinecolor": "white"
           },
           "yaxis": {
            "backgroundcolor": "#E5ECF6",
            "gridcolor": "white",
            "gridwidth": 2,
            "linecolor": "white",
            "showbackground": true,
            "ticks": "",
            "zerolinecolor": "white"
           },
           "zaxis": {
            "backgroundcolor": "#E5ECF6",
            "gridcolor": "white",
            "gridwidth": 2,
            "linecolor": "white",
            "showbackground": true,
            "ticks": "",
            "zerolinecolor": "white"
           }
          },
          "shapedefaults": {
           "line": {
            "color": "#2a3f5f"
           }
          },
          "ternary": {
           "aaxis": {
            "gridcolor": "white",
            "linecolor": "white",
            "ticks": ""
           },
           "baxis": {
            "gridcolor": "white",
            "linecolor": "white",
            "ticks": ""
           },
           "bgcolor": "#E5ECF6",
           "caxis": {
            "gridcolor": "white",
            "linecolor": "white",
            "ticks": ""
           }
          },
          "title": {
           "x": 0.05
          },
          "xaxis": {
           "automargin": true,
           "gridcolor": "white",
           "linecolor": "white",
           "ticks": "",
           "title": {
            "standoff": 15
           },
           "zerolinecolor": "white",
           "zerolinewidth": 2
          },
          "yaxis": {
           "automargin": true,
           "gridcolor": "white",
           "linecolor": "white",
           "ticks": "",
           "title": {
            "standoff": 15
           },
           "zerolinecolor": "white",
           "zerolinewidth": 2
          }
         }
        },
        "title": {
         "font": {
          "size": 20
         },
         "text": "Predicted Scores",
         "x": 0.5,
         "xref": "paper"
        },
        "width": 800,
        "xaxis": {
         "anchor": "y",
         "domain": [
          0,
          1
         ],
         "linecolor": "black",
         "linewidth": 1,
         "mirror": true,
         "nticks": 15,
         "showline": true,
         "tickangle": 45,
         "title": {
          "text": "date"
         }
        },
        "yaxis": {
         "anchor": "x",
         "domain": [
          0,
          1
         ],
         "linecolor": "black",
         "linewidth": 1,
         "mirror": true,
         "showline": true,
         "title": {
          "text": "predicted_raw_scores"
         }
        }
       }
      }
     },
     "metadata": {},
     "output_type": "display_data"
    }
   ],
   "source": [
    "#Filter the data to keep only relevant rows\n",
    "data = scores_data.iloc[:90]\n",
    "\n",
    "# Create the plot using Plotly Express and add annotations for each data point using 'text data' column\n",
    "fig = px.line(data, x='date', y='predicted_raw_scores', color_discrete_sequence=['#5d35f2'],  hover_data={'text data': True})\n",
    "\n",
    "# Adjust x-axis date ticks at the gap of 6 days\n",
    "fig.update_xaxes(nticks = 15)\n",
    "\n",
    "# Adjust layout settings\n",
    "fig.update_layout(title= dict(text = 'Predicted Scores', font = dict(size=20), x=0.5, xref=\"paper\") ,\n",
    "                  xaxis=dict(tickangle=45, showline=True, linewidth=1, linecolor='black', mirror=True),\n",
    "                  yaxis=dict(showline=True, linewidth=1, linecolor='black', mirror=True),\n",
    "                  width=800, height=400,\n",
    "                  )\n",
    "\n",
    "# Show the plot\n",
    "fig.show()"
   ]
  },
  {
   "cell_type": "code",
   "execution_count": 17,
   "metadata": {},
   "outputs": [],
   "source": [
    "# @hidden_cell        \n",
    "sns.set(rc={'axes.facecolor':'#c0cefa'}) # graph facecolor\n",
    "font_color = '#525252'\n",
    "csfont = {'fontname':'Georgia'} # title font\n",
    "hfont = {'fontname':'Calibri'} # main font\n",
    "ann_color = '#c449cc' # annotation color"
   ]
  },
  {
   "cell_type": "code",
   "execution_count": 18,
   "metadata": {},
   "outputs": [
    {
     "data": {
      "image/png": "[encoded data removed]",
      "text/plain": [
       "<Figure size 1000x500 with 1 Axes>"
      ]
     },
     "metadata": {},
     "output_type": "display_data"
    }
   ],
   "source": [
    "# @hidden_cell        \n",
    "\n",
    "fig, ax = plt.subplots(facecolor='#f0eeee')\n",
    "fig.set_size_inches(10, 5)\n",
    "line, = ax.plot('date', 'predicted_raw_scores', data=scores_data.iloc[:90], color='#5d35f2', linewidth=3)\n",
    "\n",
    "\n",
    "# # Annotate each data point with the text from another column 'text data'\n",
    "# for i, row in scores_data.iloc[:90].iterrows():\n",
    "#     ax.annotate(row['text data'],  # The text to be shown\n",
    "#                 xy=(row['date'], row['predicted_raw_scores']),  # The coordinates of the data point to annotate\n",
    "#                 xytext=(5, 5),  # The position of the text relative to the data point (in points)\n",
    "#                 textcoords='offset points',  # Use 'offset points' to specify the position as an offset from data point\n",
    "#                 color='black',  # Text color\n",
    "#                 fontsize=12,  # Text font size\n",
    "#                 ha='left',  # Horizontal alignment ('left', 'right', or 'center')\n",
    "#                 va='bottom'  # Vertical alignment ('top', 'bottom', 'center', 'baseline', or 'center_baseline')\n",
    "#                 )\n",
    "\n",
    "\n",
    "# # Annotate each data point with the text from another column 'text data'\n",
    "# def on_hover(sel):\n",
    "#     index = sel.target.index\n",
    "#     row = scores_data.iloc[index]\n",
    "#     annotation_text = row['text data']\n",
    "#     sel.annotation.set_text(annotation_text)\n",
    "\n",
    "# mplcursors.cursor(line).connect(\"add\", on_hover)  # Connect the on_hover function to mplcursors\n",
    "\n",
    "\n",
    "# Annotate each data point with the text from another column 'text data'\n",
    "def formatter(**kwargs):\n",
    "    index = kwargs['index']\n",
    "    row = scores_data.iloc[index]\n",
    "    annotation_text = row['text data']\n",
    "    return f\"Annotation: {annotation_text}\"\n",
    "\n",
    "# Connect mpldatacursor to the plot\n",
    "mpldatacursor.datacursor(hover=True, formatter=formatter)\n",
    "\n",
    "\n",
    "plt.tight_layout()\n",
    "\n",
    "# Set x-axis major locator and tick rotation\n",
    "ax.xaxis.set_major_locator(ticker.MultipleLocator(5))\n",
    "plt.xticks(rotation=45)\n",
    "\n",
    "# Set title\n",
    "ttl = ax.set_title('Predicted Scores', fontsize=18, pad=18, color=font_color, **csfont)\n",
    "ttl.set_position([.5, 1.02])\n",
    "\n",
    "plt.show()"
   ]
  }
 ],
 "metadata": {
  "kernelspec": {
   "display_name": "Python 3",
   "language": "python",
   "name": "python3"
  },
  "language_info": {
   "codemirror_mode": {
    "name": "ipython",
    "version": 3
   },
   "file_extension": ".py",
   "mimetype": "text/x-python",
   "name": "python",
   "nbconvert_exporter": "python",
   "pygments_lexer": "ipython3",
   "version": "3.9.13"
  },
  "orig_nbformat": 4
 },
 "nbformat": 4,
 "nbformat_minor": 2
}
