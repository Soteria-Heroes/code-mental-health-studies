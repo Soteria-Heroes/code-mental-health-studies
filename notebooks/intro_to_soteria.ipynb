{
 "cells": [
  {
   "cell_type": "markdown",
   "id": "9a2e3822",
   "metadata": {},
   "source": [
    "# This is a placeholder"
   ]
  },
  {
   "cell_type": "code",
   "execution_count": null,
   "id": "16c4a4e6",
   "metadata": {},
   "outputs": [],
   "source": []
  }
 ],
 "metadata": {
  "kernelspec": {
   "display_name": "Python 3.9.2 64-bit",
   "language": "python",
   "name": "python39264bit3b9af79518f24f579df7574815705d06"
  },
  "language_info": {
   "codemirror_mode": {
    "name": "ipython",
    "version": 3
   },
   "file_extension": ".py",
   "mimetype": "text/x-python",
   "name": "python",
   "nbconvert_exporter": "python",
   "pygments_lexer": "ipython3",
   "version": "3.10.9"
  }
 },
 "nbformat": 4,
 "nbformat_minor": 5
}
